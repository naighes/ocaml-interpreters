{
 "cells": [
  {
   "cell_type": "markdown",
   "metadata": {},
   "source": [
    "## Functional Language\n",
    "\n",
    "### Syntax\n",
    "\n",
    "_to be defined_\n",
    "\n",
    "### Semantics\n",
    "\n",
    "\\begin{gather*}\n",
    "\\frac{e \\rightarrow e'}{IfThenElse(e, e_1, e_2) \\rightarrow IfThenElse(e', e_1, e_2)} \\\\[20pt]\n",
    "\\frac{e_1 \\rightarrow e_1'}{IfThenElse(true, e_1, e_2) \\rightarrow e_1'} \\\\[20pt]\n",
    "\\frac{e_2 \\rightarrow e_2'}{IfThenElse(false, e_1, e_2) \\rightarrow e_2'}\n",
    "\\end{gather*}\n",
    "\n",
    "TODO"
   ]
  }
 ],
 "metadata": {
  "kernelspec": {
   "display_name": "Python 3",
   "language": "python",
   "name": "python3"
  },
  "language_info": {
   "codemirror_mode": {
    "name": "ipython",
    "version": 3
   },
   "file_extension": ".py",
   "mimetype": "text/x-python",
   "name": "python",
   "nbconvert_exporter": "python",
   "pygments_lexer": "ipython3",
   "version": "3.5.2"
  }
 },
 "nbformat": 4,
 "nbformat_minor": 0
}
