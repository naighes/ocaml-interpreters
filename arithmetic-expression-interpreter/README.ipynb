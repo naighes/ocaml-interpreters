{
 "cells": [
  {
   "cell_type": "markdown",
   "metadata": {},
   "source": [
    "## Arithmetic Expressions\n",
    "\n",
    "### Syntax\n",
    "\n",
    "\\begin{gather*}\n",
    "Exp ::= Term\\ [\\ +\\ Exp\\ \\vert\\ -\\ Exp\\ ] \\\\\n",
    "Term ::= Factor\\ [\\ *\\ Term\\ \\vert\\ /\\ Term\\ ] \\\\\n",
    "Factor ::= n\\ \\vert\\ (Exp)\n",
    "\\end{gather*}\n",
    "\n",
    "### Semantics (small step)\n",
    "\n",
    "\\begin{gather*}\n",
    "\\frac{e_1 \\xrightarrow{ss} e_1'}{e_1\\ op\\ e_2 \\xrightarrow{ss} e_1'\\ op\\ e_2} \\\\[20pt]\n",
    "\\frac{e_2 \\xrightarrow{ss} e_2'}{v\\ op\\ e_2 \\xrightarrow{ss} v\\ op\\ e_2'} \\\\[20pt]\n",
    "\\frac{v_1\\ op\\ v_2 = v}{v_1\\ op\\ v_2 \\xrightarrow{ss} v}\n",
    "\\end{gather*}\n",
    "\n",
    "### Semantics (big step)\n",
    "\n",
    "\\begin{gather*}\n",
    "n \\xrightarrow{bs} n \\\\[20pt]\n",
    "\\frac{e_1 \\xrightarrow{bs} v_1 \\quad e_2 \\xrightarrow{bs} v_2 \\quad v_1\\ op\\ v_2 \\xrightarrow{bs} v}{e_1\\ op\\ e_2 \\xrightarrow{bs} v}\n",
    "\\end{gather*}"
   ]
  }
 ],
 "metadata": {
  "kernelspec": {
   "display_name": "Python 3",
   "language": "python",
   "name": "python3"
  },
  "language_info": {
   "codemirror_mode": {
    "name": "ipython",
    "version": 3
   },
   "file_extension": ".py",
   "mimetype": "text/x-python",
   "name": "python",
   "nbconvert_exporter": "python",
   "pygments_lexer": "ipython3",
   "version": "3.5.2"
  }
 },
 "nbformat": 4,
 "nbformat_minor": 0
}
