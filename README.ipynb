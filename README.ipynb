{
 "cells": [
  {
   "cell_type": "markdown",
   "metadata": {},
   "source": [
    "# OCaml intepreters\n",
    "\n",
    "---\n",
    "\n",
    "This is just my experimenting with tokenization, parsing and quick interpreter's implementation.\n"
   ]
  },
  {
   "cell_type": "markdown",
   "metadata": {},
   "source": [
    "## Lambda Calculus\n",
    "\n",
    "### Syntax\n",
    "\n",
    "\\begin{equation*}\n",
    "e ::= x\\ \\vert\\ \\lambda x . e\\ \\vert\\ e\\ e\n",
    "\\end{equation*}\n",
    "\n",
    "### Semantics (call-by-name)\n",
    "\n",
    "\\begin{gather*}\n",
    "(\\lambda x . e_1)e_2 \\rightarrow e_1\\{x:=e_2\\} \\\\[20pt]\n",
    "\\frac{e_1 \\rightarrow e_1'}{e_1 e_2 \\rightarrow e_1' e_2} \\\\[20pt]\n",
    "\\frac{e_2 \\rightarrow e_2'}{e_1 e_2 \\rightarrow e_1 e_2'} \\\\[20pt]\n",
    "\\frac{e \\rightarrow e'}{\\lambda x . e \\rightarrow \\lambda x . e'}\n",
    "\\end{gather*}"
   ]
  }
 ],
 "metadata": {
  "kernelspec": {
   "display_name": "Python 3",
   "language": "python",
   "name": "python3"
  },
  "language_info": {
   "codemirror_mode": {
    "name": "ipython",
    "version": 3
   },
   "file_extension": ".py",
   "mimetype": "text/x-python",
   "name": "python",
   "nbconvert_exporter": "python",
   "pygments_lexer": "ipython3",
   "version": "3.5.2"
  }
 },
 "nbformat": 4,
 "nbformat_minor": 0
}
