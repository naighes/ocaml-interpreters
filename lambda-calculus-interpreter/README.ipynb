{
 "cells": [
  {
   "cell_type": "markdown",
   "metadata": {},
   "source": [
    "## Lambda Calculus\n",
    "\n",
    "### Syntax\n",
    "\n",
    "\\begin{equation*}\n",
    "e ::= x\\ \\vert\\ \\lambda x . e\\ \\vert\\ e\\ e\n",
    "\\end{equation*}\n",
    "\n",
    "### Semantics\n",
    "\n",
    "\\begin{gather*}\n",
    "(\\lambda x . e_1)e_2 \\rightarrow e_1\\{x:=e_2\\} \\\\[20pt]\n",
    "\\frac{e_1 \\rightarrow e_1'}{e_1 e_2 \\rightarrow e_1' e_2} \\\\[20pt]\n",
    "\\frac{e_2 \\rightarrow e_2'}{e_1 e_2 \\rightarrow e_1 e_2'} \\\\[20pt]\n",
    "\\frac{e \\rightarrow e'}{\\lambda x . e \\rightarrow \\lambda x . e'}\n",
    "\\end{gather*}\n",
    "\n",
    "### Free variables\n",
    "\n",
    "\\begin{gather*}\n",
    "FV(x) = \\{x\\} \\\\\n",
    "FV(M N) = FV(M) \\cup FV(N) \\\\\n",
    "FV(\\lambda x.M) = FV(M) \\setminus \\{x\\}\n",
    "\\end{gather*}\n",
    "\n",
    "### Capture-avoiding substitution\n",
    "\n",
    "\\begin{gather*}\n",
    "x\\{x:=e\\} = e \\\\\n",
    "y\\{x:=e\\} = y \\quad if \\quad y \\neq x \\\\\n",
    "(e_1 e_2)\\{x:=e\\} = (e_1\\{x :=e\\}\\ e_2\\{x:=e\\}) \\\\\n",
    "(\\lambda y . e_1)\\{x:=e\\} = \\lambda y . (e_1\\{x:=e\\}) \\quad if \\quad y \\neq x  \\land y \\notin FV(e) \\\\\n",
    "(\\lambda y . e_1)\\{x:=e\\} = \\lambda z . ((e_1\\{y:=z\\})\\{x:=e\\}) \\quad if \\quad y \\neq x \\land y \\in FV(e) \\land z\\ is\\ fresh\n",
    "\\end{gather*}"
   ]
  }
 ],
 "metadata": {
  "kernelspec": {
   "display_name": "Python 3",
   "language": "python",
   "name": "python3"
  },
  "language_info": {
   "codemirror_mode": {
    "name": "ipython",
    "version": 3
   },
   "file_extension": ".py",
   "mimetype": "text/x-python",
   "name": "python",
   "nbconvert_exporter": "python",
   "pygments_lexer": "ipython3",
   "version": "3.5.2"
  }
 },
 "nbformat": 4,
 "nbformat_minor": 0
}
